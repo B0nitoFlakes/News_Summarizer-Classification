{
 "cells": [
  {
   "cell_type": "code",
   "execution_count": 1,
   "id": "a4320882",
   "metadata": {},
   "outputs": [],
   "source": [
    "import pandas as pd\n",
    "import torch\n",
    "from transformers import PegasusForConditionalGeneration, PegasusTokenizer, AdamW, get_linear_schedule_with_warmup\n",
    "from torch.utils.data import DataLoader, Dataset\n",
    "from rouge import Rouge"
   ]
  },
  {
   "cell_type": "code",
   "execution_count": 2,
   "id": "2691be4e",
   "metadata": {},
   "outputs": [],
   "source": [
    "class SummarizationDataset(Dataset):\n",
    "    def __init__(self, data, tokenizer, max_input_length=512, max_output_length=128):\n",
    "        self.data = data\n",
    "        self.tokenizer = tokenizer\n",
    "        self.max_input_length = max_input_length\n",
    "        self.max_output_length = max_output_length\n",
    "    \n",
    "    def __len__(self):\n",
    "        return len(self.data)\n",
    "    \n",
    "    def __getitem__(self, index):\n",
    "        article = self.data.iloc[index][\"text\"]\n",
    "        summary = self.data.iloc[index][\"headlines\"]\n",
    "        input_ids = self.tokenizer.encode(article, max_length=self.max_input_length, truncation=True, padding=\"max_length\")\n",
    "        output_ids = self.tokenizer.encode(summary, max_length=self.max_output_length, truncation=True, padding=\"max_length\")\n",
    "        return {\"input_ids\": input_ids, \"attention_mask\": [int(token_id != 0) for token_id in input_ids], \"decoder_input_ids\": output_ids[:-1], \"decoder_attention_mask\": [1] * (len(output_ids) - 1), \"labels\": output_ids[1:]}"
   ]
  },
  {
   "cell_type": "code",
   "execution_count": 3,
   "id": "19b1a524",
   "metadata": {},
   "outputs": [
    {
     "data": {
      "text/html": [
       "<div>\n",
       "<style scoped>\n",
       "    .dataframe tbody tr th:only-of-type {\n",
       "        vertical-align: middle;\n",
       "    }\n",
       "\n",
       "    .dataframe tbody tr th {\n",
       "        vertical-align: top;\n",
       "    }\n",
       "\n",
       "    .dataframe thead th {\n",
       "        text-align: right;\n",
       "    }\n",
       "</style>\n",
       "<table border=\"1\" class=\"dataframe\">\n",
       "  <thead>\n",
       "    <tr style=\"text-align: right;\">\n",
       "      <th></th>\n",
       "      <th>author</th>\n",
       "      <th>date</th>\n",
       "      <th>headlines</th>\n",
       "      <th>read_more</th>\n",
       "      <th>text</th>\n",
       "      <th>ctext</th>\n",
       "    </tr>\n",
       "  </thead>\n",
       "  <tbody>\n",
       "    <tr>\n",
       "      <th>0</th>\n",
       "      <td>Chhavi Tyagi</td>\n",
       "      <td>03 Aug 2017,Thursday</td>\n",
       "      <td>Daman &amp; Diu revokes mandatory Rakshabandhan in...</td>\n",
       "      <td>http://www.hindustantimes.com/india-news/raksh...</td>\n",
       "      <td>The Administration of Union Territory Daman an...</td>\n",
       "      <td>The Daman and Diu administration on Wednesday ...</td>\n",
       "    </tr>\n",
       "    <tr>\n",
       "      <th>1</th>\n",
       "      <td>Daisy Mowke</td>\n",
       "      <td>03 Aug 2017,Thursday</td>\n",
       "      <td>Malaika slams user who trolled her for 'divorc...</td>\n",
       "      <td>http://www.hindustantimes.com/bollywood/malaik...</td>\n",
       "      <td>Malaika Arora slammed an Instagram user who tr...</td>\n",
       "      <td>From her special numbers to TV?appearances, Bo...</td>\n",
       "    </tr>\n",
       "    <tr>\n",
       "      <th>2</th>\n",
       "      <td>Arshiya Chopra</td>\n",
       "      <td>03 Aug 2017,Thursday</td>\n",
       "      <td>'Virgin' now corrected to 'Unmarried' in IGIMS...</td>\n",
       "      <td>http://www.hindustantimes.com/patna/bihar-igim...</td>\n",
       "      <td>The Indira Gandhi Institute of Medical Science...</td>\n",
       "      <td>The Indira Gandhi Institute of Medical Science...</td>\n",
       "    </tr>\n",
       "    <tr>\n",
       "      <th>3</th>\n",
       "      <td>Sumedha Sehra</td>\n",
       "      <td>03 Aug 2017,Thursday</td>\n",
       "      <td>Aaj aapne pakad liya: LeT man Dujana before be...</td>\n",
       "      <td>http://indiatoday.intoday.in/story/abu-dujana-...</td>\n",
       "      <td>Lashkar-e-Taiba's Kashmir commander Abu Dujana...</td>\n",
       "      <td>Lashkar-e-Taiba's Kashmir commander Abu Dujana...</td>\n",
       "    </tr>\n",
       "    <tr>\n",
       "      <th>4</th>\n",
       "      <td>Aarushi Maheshwari</td>\n",
       "      <td>03 Aug 2017,Thursday</td>\n",
       "      <td>Hotel staff to get training to spot signs of s...</td>\n",
       "      <td>http://indiatoday.intoday.in/story/sex-traffic...</td>\n",
       "      <td>Hotels in Maharashtra will train their staff t...</td>\n",
       "      <td>Hotels in Mumbai and other Indian cities are t...</td>\n",
       "    </tr>\n",
       "    <tr>\n",
       "      <th>...</th>\n",
       "      <td>...</td>\n",
       "      <td>...</td>\n",
       "      <td>...</td>\n",
       "      <td>...</td>\n",
       "      <td>...</td>\n",
       "      <td>...</td>\n",
       "    </tr>\n",
       "    <tr>\n",
       "      <th>102910</th>\n",
       "      <td>NaN</td>\n",
       "      <td>NaN</td>\n",
       "      <td>CRPF jawan axed to death by Maoists in Chhatti...</td>\n",
       "      <td>NaN</td>\n",
       "      <td>A CRPF jawan was on Tuesday axed to death with...</td>\n",
       "      <td>NaN</td>\n",
       "    </tr>\n",
       "    <tr>\n",
       "      <th>102911</th>\n",
       "      <td>NaN</td>\n",
       "      <td>NaN</td>\n",
       "      <td>First song from Sonakshi Sinha's 'Noor' titled...</td>\n",
       "      <td>NaN</td>\n",
       "      <td>'Uff Yeh', the first song from the Sonakshi Si...</td>\n",
       "      <td>NaN</td>\n",
       "    </tr>\n",
       "    <tr>\n",
       "      <th>102912</th>\n",
       "      <td>NaN</td>\n",
       "      <td>NaN</td>\n",
       "      <td>'The Matrix' film to get a reboot: Reports</td>\n",
       "      <td>NaN</td>\n",
       "      <td>According to reports, a new version of the 199...</td>\n",
       "      <td>NaN</td>\n",
       "    </tr>\n",
       "    <tr>\n",
       "      <th>102913</th>\n",
       "      <td>NaN</td>\n",
       "      <td>NaN</td>\n",
       "      <td>Snoop Dogg aims gun at clown dressed as Trump ...</td>\n",
       "      <td>NaN</td>\n",
       "      <td>A new music video shows rapper Snoop Dogg aimi...</td>\n",
       "      <td>NaN</td>\n",
       "    </tr>\n",
       "    <tr>\n",
       "      <th>102914</th>\n",
       "      <td>NaN</td>\n",
       "      <td>NaN</td>\n",
       "      <td>Madhesi Morcha withdraws support to Nepalese g...</td>\n",
       "      <td>NaN</td>\n",
       "      <td>Madhesi Morcha, an alliance of seven political...</td>\n",
       "      <td>NaN</td>\n",
       "    </tr>\n",
       "  </tbody>\n",
       "</table>\n",
       "<p>102915 rows × 6 columns</p>\n",
       "</div>"
      ],
      "text/plain": [
       "                    author                  date  \\\n",
       "0             Chhavi Tyagi  03 Aug 2017,Thursday   \n",
       "1              Daisy Mowke  03 Aug 2017,Thursday   \n",
       "2           Arshiya Chopra  03 Aug 2017,Thursday   \n",
       "3            Sumedha Sehra  03 Aug 2017,Thursday   \n",
       "4       Aarushi Maheshwari  03 Aug 2017,Thursday   \n",
       "...                    ...                   ...   \n",
       "102910                 NaN                   NaN   \n",
       "102911                 NaN                   NaN   \n",
       "102912                 NaN                   NaN   \n",
       "102913                 NaN                   NaN   \n",
       "102914                 NaN                   NaN   \n",
       "\n",
       "                                                headlines  \\\n",
       "0       Daman & Diu revokes mandatory Rakshabandhan in...   \n",
       "1       Malaika slams user who trolled her for 'divorc...   \n",
       "2       'Virgin' now corrected to 'Unmarried' in IGIMS...   \n",
       "3       Aaj aapne pakad liya: LeT man Dujana before be...   \n",
       "4       Hotel staff to get training to spot signs of s...   \n",
       "...                                                   ...   \n",
       "102910  CRPF jawan axed to death by Maoists in Chhatti...   \n",
       "102911  First song from Sonakshi Sinha's 'Noor' titled...   \n",
       "102912         'The Matrix' film to get a reboot: Reports   \n",
       "102913  Snoop Dogg aims gun at clown dressed as Trump ...   \n",
       "102914  Madhesi Morcha withdraws support to Nepalese g...   \n",
       "\n",
       "                                                read_more  \\\n",
       "0       http://www.hindustantimes.com/india-news/raksh...   \n",
       "1       http://www.hindustantimes.com/bollywood/malaik...   \n",
       "2       http://www.hindustantimes.com/patna/bihar-igim...   \n",
       "3       http://indiatoday.intoday.in/story/abu-dujana-...   \n",
       "4       http://indiatoday.intoday.in/story/sex-traffic...   \n",
       "...                                                   ...   \n",
       "102910                                                NaN   \n",
       "102911                                                NaN   \n",
       "102912                                                NaN   \n",
       "102913                                                NaN   \n",
       "102914                                                NaN   \n",
       "\n",
       "                                                     text  \\\n",
       "0       The Administration of Union Territory Daman an...   \n",
       "1       Malaika Arora slammed an Instagram user who tr...   \n",
       "2       The Indira Gandhi Institute of Medical Science...   \n",
       "3       Lashkar-e-Taiba's Kashmir commander Abu Dujana...   \n",
       "4       Hotels in Maharashtra will train their staff t...   \n",
       "...                                                   ...   \n",
       "102910  A CRPF jawan was on Tuesday axed to death with...   \n",
       "102911  'Uff Yeh', the first song from the Sonakshi Si...   \n",
       "102912  According to reports, a new version of the 199...   \n",
       "102913  A new music video shows rapper Snoop Dogg aimi...   \n",
       "102914  Madhesi Morcha, an alliance of seven political...   \n",
       "\n",
       "                                                    ctext  \n",
       "0       The Daman and Diu administration on Wednesday ...  \n",
       "1       From her special numbers to TV?appearances, Bo...  \n",
       "2       The Indira Gandhi Institute of Medical Science...  \n",
       "3       Lashkar-e-Taiba's Kashmir commander Abu Dujana...  \n",
       "4       Hotels in Mumbai and other Indian cities are t...  \n",
       "...                                                   ...  \n",
       "102910                                                NaN  \n",
       "102911                                                NaN  \n",
       "102912                                                NaN  \n",
       "102913                                                NaN  \n",
       "102914                                                NaN  \n",
       "\n",
       "[102915 rows x 6 columns]"
      ]
     },
     "execution_count": 3,
     "metadata": {},
     "output_type": "execute_result"
    }
   ],
   "source": [
    "data = pd.read_csv('/Users/HP/Documents/STUDIES/PYTHONCODES/DATASETS/newsMORE/news_summary.csv', encoding='latin-1')\n",
    "data_more = pd.read_csv('/Users/HP/Documents/STUDIES/PYTHONCODES/DATASETS/newsMORE/news_summary_more.csv', encoding='latin-1')\n",
    "train_df = pd.concat([data, data_more], axis=0).reset_index(drop=True)\n",
    "train_df"
   ]
  },
  {
   "cell_type": "code",
   "execution_count": 4,
   "id": "749748ed",
   "metadata": {},
   "outputs": [],
   "source": [
    "train_df = train_df[['headlines', 'text']]"
   ]
  },
  {
   "cell_type": "code",
   "execution_count": 5,
   "id": "551afb37",
   "metadata": {},
   "outputs": [
    {
     "name": "stdout",
     "output_type": "stream",
     "text": [
      "The Administration of Union Territory Daman and Diu has revoked its order that made it compulsory for women to tie rakhis to their male colleagues on the occasion of Rakshabandhan on August 7. The administration was forced to withdraw the decision within 24 hours of issuing the circular after it received flak from employees and was slammed on social media.\n"
     ]
    }
   ],
   "source": [
    "print(train_df['text'][0])"
   ]
  },
  {
   "cell_type": "code",
   "execution_count": 6,
   "id": "5b728a4a",
   "metadata": {},
   "outputs": [
    {
     "name": "stdout",
     "output_type": "stream",
     "text": [
      "Train set size: 61749\n",
      "Validation set size: 20583\n",
      "Test set size: 20583\n"
     ]
    }
   ],
   "source": [
    "from sklearn.model_selection import train_test_split\n",
    "\n",
    "# Split the data into training and temporary data\n",
    "temp_df, test_df = train_test_split(train_df, test_size=0.2, random_state=42)\n",
    "\n",
    "# Split the temporary data into training and validation data\n",
    "train_df, val_df = train_test_split(temp_df, test_size=0.25, random_state=42)\n",
    "\n",
    "# The sizes of the datasets\n",
    "print(f\"Train set size: {len(train_df)}\")\n",
    "print(f\"Validation set size: {len(val_df)}\")\n",
    "print(f\"Test set size: {len(test_df)}\")\n"
   ]
  },
  {
   "cell_type": "code",
   "execution_count": 7,
   "id": "2888aa98",
   "metadata": {},
   "outputs": [
    {
     "name": "stderr",
     "output_type": "stream",
     "text": [
      "Some weights of PegasusForConditionalGeneration were not initialized from the model checkpoint at google/pegasus-large and are newly initialized: ['model.decoder.embed_positions.weight', 'model.encoder.embed_positions.weight']\n",
      "You should probably TRAIN this model on a down-stream task to be able to use it for predictions and inference.\n"
     ]
    }
   ],
   "source": [
    "tokenizer = PegasusTokenizer.from_pretrained(\"google/pegasus-large\")\n",
    "model = PegasusForConditionalGeneration.from_pretrained(\"google/pegasus-large\")"
   ]
  },
  {
   "cell_type": "code",
   "execution_count": 8,
   "id": "03404416",
   "metadata": {},
   "outputs": [],
   "source": [
    "train_dataset = SummarizationDataset(train_df, tokenizer)\n",
    "val_dataset = SummarizationDataset(val_df, tokenizer)"
   ]
  },
  {
   "cell_type": "code",
   "execution_count": 9,
   "id": "add8f23a",
   "metadata": {},
   "outputs": [],
   "source": [
    "def collate_fn(batch):\n",
    "    input_ids = [item[\"input_ids\"] for item in batch]\n",
    "    attention_mask = [item[\"attention_mask\"] for item in batch]\n",
    "    decoder_input_ids = [item[\"decoder_input_ids\"] for item in batch]\n",
    "    decoder_attention_mask = [item[\"decoder_attention_mask\"] for item in batch]\n",
    "    labels = [item[\"labels\"] for item in batch]\n",
    "    max_input_length = max(len(ids) for ids in input_ids)\n",
    "    max_output_length = max(len(ids) for ids in decoder_input_ids)\n",
    "    input_ids = [ids + [0] * (max_input_length - len(ids)) for ids in input_ids]\n",
    "    attention_mask = [mask + [0] * (max_input_length - len(mask)) for mask in attention_mask]\n",
    "    decoder_input_ids = [ids + [0] * (max_output_length - len(ids)) for ids in decoder_input_ids]\n",
    "    decoder_attention_mask = [mask + [0] * (max_output_length - len(mask)) for mask in decoder_attention_mask]\n",
    "    labels = [ids + [-100] * (max_output_length - len(ids)) for ids in labels]\n",
    "    return {\"input_ids\": torch.tensor(input_ids), \"attention_mask\": torch.tensor(attention_mask), \"decoder_input_ids\": torch.tensor(decoder_input_ids), \"decoder_attention_mask\": torch.tensor(decoder_attention_mask), \"labels\": torch.tensor(labels)}"
   ]
  },
  {
   "cell_type": "code",
   "execution_count": 10,
   "id": "8805ec15",
   "metadata": {},
   "outputs": [],
   "source": [
    "train_loader = DataLoader(train_dataset, batch_size=2, shuffle=True, collate_fn=collate_fn)\n",
    "val_loader = DataLoader(val_dataset, batch_size=2,collate_fn=collate_fn)"
   ]
  },
  {
   "cell_type": "code",
   "execution_count": 11,
   "id": "3220ce7c",
   "metadata": {},
   "outputs": [
    {
     "name": "stderr",
     "output_type": "stream",
     "text": [
      "/Users/HP/anaconda3/lib/python3.11/site-packages/transformers/optimization.py:411: FutureWarning: This implementation of AdamW is deprecated and will be removed in a future version. Use the PyTorch implementation torch.optim.AdamW instead, or set `no_deprecation_warning=True` to disable this warning\n",
      "  warnings.warn(\n"
     ]
    }
   ],
   "source": [
    "optimizer = AdamW(model.parameters(), lr=5e-5)\n",
    "scheduler = get_linear_schedule_with_warmup(optimizer, num_warmup_steps=500, num_training_steps=10000)"
   ]
  },
  {
   "cell_type": "code",
   "execution_count": 12,
   "id": "a6cd6146",
   "metadata": {},
   "outputs": [
    {
     "data": {
      "text/plain": [
       "(30875, 10292)"
      ]
     },
     "execution_count": 12,
     "metadata": {},
     "output_type": "execute_result"
    }
   ],
   "source": [
    "len(train_loader),len(val_loader)"
   ]
  },
  {
   "cell_type": "code",
   "execution_count": 13,
   "id": "8ef8e251",
   "metadata": {},
   "outputs": [
    {
     "name": "stderr",
     "output_type": "stream",
     "text": [
      "300it [1:16:08, 15.23s/it]\n"
     ]
    },
    {
     "name": "stdout",
     "output_type": "stream",
     "text": [
      "Step-300,Train Loss-10.326537132263184\n"
     ]
    },
    {
     "name": "stderr",
     "output_type": "stream",
     "text": [
      "200it [08:59,  2.70s/it]"
     ]
    },
    {
     "name": "stdout",
     "output_type": "stream",
     "text": [
      "Step-200,Val Loss-10.163877487182617\n"
     ]
    },
    {
     "name": "stderr",
     "output_type": "stream",
     "text": [
      "\n"
     ]
    }
   ],
   "source": [
    "from tqdm import tqdm\n",
    "\n",
    "device = torch.device(\"cuda\" if torch.cuda.is_available() else \"cpu\")\n",
    "model.to(device)\n",
    "model.train()\n",
    "for epoch in range(10):\n",
    "    train_loss = 0\n",
    "    for step,batch in tqdm(enumerate(train_loader)):\n",
    "        batch = {k: v.to(device) for k, v in batch.items()}\n",
    "        loss = model(**batch).loss\n",
    "        loss.backward()\n",
    "        optimizer.step()\n",
    "        scheduler.step()\n",
    "        optimizer.zero_grad()\n",
    "        if step%300==0 and step>0:\n",
    "            print(\"Step-{},Train Loss-{}\".format(step,loss.item()))\n",
    "            break#intentionally breaking the training after 100 steps since it's going to take long to train,feel free to comment and train more\n",
    "        train_loss += loss.item()\n",
    "    train_loss /= len(train_loader)\n",
    "    val_loss = 0\n",
    "    model.eval()\n",
    "    with torch.no_grad():\n",
    "        for step,batch in tqdm(enumerate(val_loader)):\n",
    "            batch = {k: v.to(device) for k, v in batch.items()}\n",
    "            loss = model(**batch).loss\n",
    "            val_loss += loss.item()\n",
    "            if step%200==0 and step>0:\n",
    "                print(\"Step-{},Val Loss-{}\".format(step,loss.item()))\n",
    "                break #intentionally breaking the training after 100 steps since it's going to take long to validate,feel free to comment and validate more\n",
    "        val_loss /= len(val_loader)\n",
    "    model.train()\n",
    "    break # when you train more then uncomment this, too !\n",
    "    print(f\"Epoch {epoch+1} train loss: {train_loss:.4f} val loss: {val_loss:.4f}\")"
   ]
  },
  {
   "cell_type": "code",
   "execution_count": 14,
   "id": "89d5cc48",
   "metadata": {},
   "outputs": [
    {
     "data": {
      "text/plain": [
       "('fine_tuned_pegasus/tokenizer_config.json',\n",
       " 'fine_tuned_pegasus/special_tokens_map.json',\n",
       " 'fine_tuned_pegasus/spiece.model',\n",
       " 'fine_tuned_pegasus/added_tokens.json')"
      ]
     },
     "execution_count": 14,
     "metadata": {},
     "output_type": "execute_result"
    }
   ],
   "source": [
    "model.save_pretrained(\"fine_tuned_pegasus\")\n",
    "tokenizer.save_pretrained(\"fine_tuned_pegasus\")"
   ]
  },
  {
   "cell_type": "code",
   "execution_count": 15,
   "id": "f3519181",
   "metadata": {},
   "outputs": [],
   "source": [
    "model = PegasusForConditionalGeneration.from_pretrained(\"fine_tuned_pegasus\")\n",
    "tokenizer = PegasusTokenizer.from_pretrained(\"fine_tuned_pegasus\")"
   ]
  },
  {
   "cell_type": "code",
   "execution_count": 16,
   "id": "ec39e550",
   "metadata": {},
   "outputs": [],
   "source": [
    "test_dataset = SummarizationDataset(test_df, tokenizer)"
   ]
  },
  {
   "cell_type": "code",
   "execution_count": 17,
   "id": "298683b8",
   "metadata": {},
   "outputs": [],
   "source": [
    "test_loader = DataLoader(test_dataset, batch_size=1,collate_fn=collate_fn)"
   ]
  },
  {
   "cell_type": "code",
   "execution_count": 18,
   "id": "44b7ada5",
   "metadata": {},
   "outputs": [
    {
     "data": {
      "text/plain": [
       "20583"
      ]
     },
     "execution_count": 18,
     "metadata": {},
     "output_type": "execute_result"
    }
   ],
   "source": [
    "len(test_loader)"
   ]
  },
  {
   "cell_type": "code",
   "execution_count": 19,
   "id": "13de7705",
   "metadata": {},
   "outputs": [
    {
     "name": "stderr",
     "output_type": "stream",
     "text": [
      "100it [18:16, 10.97s/it]\n"
     ]
    }
   ],
   "source": [
    "model.to(device)\n",
    "model.eval()\n",
    "predictions = []\n",
    "with torch.no_grad():\n",
    "    for step, batch in tqdm(enumerate(test_loader)):\n",
    "        batch = {k: v.to(device) for k, v in batch.items()}\n",
    "        output_ids = model.generate(input_ids=batch[\"input_ids\"], attention_mask=batch[\"attention_mask\"], max_length=128, decoder_start_token_id=tokenizer.pad_token_id)\n",
    "        batch_predictions = [tokenizer.decode(ids, skip_special_tokens=True) for ids in output_ids]\n",
    "        predictions.extend(batch_predictions)\n",
    "        if step==100:\n",
    "            break # breaking after generating 100 predictions.. since it's going to take long to predict on entire set"
   ]
  },
  {
   "cell_type": "code",
   "execution_count": 20,
   "id": "286ad2bc",
   "metadata": {},
   "outputs": [
    {
     "data": {
      "text/plain": [
       "101"
      ]
     },
     "execution_count": 20,
     "metadata": {},
     "output_type": "execute_result"
    }
   ],
   "source": [
    "len(predictions)"
   ]
  },
  {
   "cell_type": "code",
   "execution_count": 21,
   "id": "62cf180b",
   "metadata": {},
   "outputs": [
    {
     "name": "stdout",
     "output_type": "stream",
     "text": [
      "101\n"
     ]
    },
    {
     "name": "stderr",
     "output_type": "stream",
     "text": [
      "/var/folders/7v/krfvgn7d7xg1m339zmy3gh940000gn/T/ipykernel_68480/959527322.py:4: SettingWithCopyWarning: \n",
      "A value is trying to be set on a copy of a slice from a DataFrame.\n",
      "Try using .loc[row_indexer,col_indexer] = value instead\n",
      "\n",
      "See the caveats in the documentation: https://pandas.pydata.org/pandas-docs/stable/user_guide/indexing.html#returning-a-view-versus-a-copy\n",
      "  test_df[\"predictions\"] = predictions\n"
     ]
    }
   ],
   "source": [
    "# Save the predictions to a CSV file\n",
    "test_df = test_df[:101]# for 100 predicitons only\n",
    "print(len(test_df))\n",
    "test_df[\"predictions\"] = predictions\n",
    "test_df.to_csv(\"test_predictions.csv\", index=False)"
   ]
  },
  {
   "cell_type": "code",
   "execution_count": 22,
   "id": "076e0eb9",
   "metadata": {},
   "outputs": [
    {
     "data": {
      "text/html": [
       "<div>\n",
       "<style scoped>\n",
       "    .dataframe tbody tr th:only-of-type {\n",
       "        vertical-align: middle;\n",
       "    }\n",
       "\n",
       "    .dataframe tbody tr th {\n",
       "        vertical-align: top;\n",
       "    }\n",
       "\n",
       "    .dataframe thead th {\n",
       "        text-align: right;\n",
       "    }\n",
       "</style>\n",
       "<table border=\"1\" class=\"dataframe\">\n",
       "  <thead>\n",
       "    <tr style=\"text-align: right;\">\n",
       "      <th></th>\n",
       "      <th>headlines</th>\n",
       "      <th>text</th>\n",
       "      <th>predictions</th>\n",
       "    </tr>\n",
       "  </thead>\n",
       "  <tbody>\n",
       "    <tr>\n",
       "      <th>29186</th>\n",
       "      <td>First humans to step foot on Moon left over 10...</td>\n",
       "      <td>The first humans to land on the Moon, Neil Arm...</td>\n",
       "      <td>A plaque inscribed, \"Here men from the planet ...</td>\n",
       "    </tr>\n",
       "    <tr>\n",
       "      <th>2436</th>\n",
       "      <td>India has 2nd highest number of adults plannin...</td>\n",
       "      <td>India has the second highest number of adults ...</td>\n",
       "      <td>The report analysing people's migration intent...</td>\n",
       "    </tr>\n",
       "    <tr>\n",
       "      <th>18294</th>\n",
       "      <td>South Korea urges US to declare end to Korean War</td>\n",
       "      <td>South Korean President Moon Jae-in has asked t...</td>\n",
       "      <td>South Korean President Moon Jae-in has asked t...</td>\n",
       "    </tr>\n",
       "    <tr>\n",
       "      <th>25026</th>\n",
       "      <td>Four students washed away in Krishna river in ...</td>\n",
       "      <td>Four students, between seven and 14 years of a...</td>\n",
       "      <td>\"The locals immediately jumped into the water ...</td>\n",
       "    </tr>\n",
       "    <tr>\n",
       "      <th>72245</th>\n",
       "      <td>Uber rival Grab leads $15 mn funding in self-d...</td>\n",
       "      <td>Self-driving car startup Drive.ai has raised $...</td>\n",
       "      <td>The startup will use the funding to open a Sin...</td>\n",
       "    </tr>\n",
       "    <tr>\n",
       "      <th>...</th>\n",
       "      <td>...</td>\n",
       "      <td>...</td>\n",
       "      <td>...</td>\n",
       "    </tr>\n",
       "    <tr>\n",
       "      <th>28316</th>\n",
       "      <td>An Assamese should play Hima: Adil on Akshay's...</td>\n",
       "      <td>Reacting to Akshay Kumar's statement that he'd...</td>\n",
       "      <td>Reacting to Akshay Kumar's statement that he'd...</td>\n",
       "    </tr>\n",
       "    <tr>\n",
       "      <th>101769</th>\n",
       "      <td>A man had sold the Eiffel Tower twice</td>\n",
       "      <td>When the Eiffel Tower's decaying condition was...</td>\n",
       "      <td>Six months later, Lustig returned to Paris and...</td>\n",
       "    </tr>\n",
       "    <tr>\n",
       "      <th>11081</th>\n",
       "      <td>Mars mission may shorten astronauts' lives by ...</td>\n",
       "      <td>A research presented at a Moscow conference ha...</td>\n",
       "      <td>The researchers suggest that using sleeping ba...</td>\n",
       "    </tr>\n",
       "    <tr>\n",
       "      <th>94037</th>\n",
       "      <td>Rape incidents can't be prevented: Rajasthan m...</td>\n",
       "      <td>BJP leader and Rajasthan minister Kali Charan ...</td>\n",
       "      <td>He added that the government can only take act...</td>\n",
       "    </tr>\n",
       "    <tr>\n",
       "      <th>77156</th>\n",
       "      <td>Kendall slammed for being named Fashion Icon o...</td>\n",
       "      <td>Model Kendall Jenner has been slammed by peopl...</td>\n",
       "      <td>\"Girl poses with the same old boring face, did...</td>\n",
       "    </tr>\n",
       "  </tbody>\n",
       "</table>\n",
       "<p>101 rows × 3 columns</p>\n",
       "</div>"
      ],
      "text/plain": [
       "                                                headlines  \\\n",
       "29186   First humans to step foot on Moon left over 10...   \n",
       "2436    India has 2nd highest number of adults plannin...   \n",
       "18294   South Korea urges US to declare end to Korean War   \n",
       "25026   Four students washed away in Krishna river in ...   \n",
       "72245   Uber rival Grab leads $15 mn funding in self-d...   \n",
       "...                                                   ...   \n",
       "28316   An Assamese should play Hima: Adil on Akshay's...   \n",
       "101769              A man had sold the Eiffel Tower twice   \n",
       "11081   Mars mission may shorten astronauts' lives by ...   \n",
       "94037   Rape incidents can't be prevented: Rajasthan m...   \n",
       "77156   Kendall slammed for being named Fashion Icon o...   \n",
       "\n",
       "                                                     text  \\\n",
       "29186   The first humans to land on the Moon, Neil Arm...   \n",
       "2436    India has the second highest number of adults ...   \n",
       "18294   South Korean President Moon Jae-in has asked t...   \n",
       "25026   Four students, between seven and 14 years of a...   \n",
       "72245   Self-driving car startup Drive.ai has raised $...   \n",
       "...                                                   ...   \n",
       "28316   Reacting to Akshay Kumar's statement that he'd...   \n",
       "101769  When the Eiffel Tower's decaying condition was...   \n",
       "11081   A research presented at a Moscow conference ha...   \n",
       "94037   BJP leader and Rajasthan minister Kali Charan ...   \n",
       "77156   Model Kendall Jenner has been slammed by peopl...   \n",
       "\n",
       "                                              predictions  \n",
       "29186   A plaque inscribed, \"Here men from the planet ...  \n",
       "2436    The report analysing people's migration intent...  \n",
       "18294   South Korean President Moon Jae-in has asked t...  \n",
       "25026   \"The locals immediately jumped into the water ...  \n",
       "72245   The startup will use the funding to open a Sin...  \n",
       "...                                                   ...  \n",
       "28316   Reacting to Akshay Kumar's statement that he'd...  \n",
       "101769  Six months later, Lustig returned to Paris and...  \n",
       "11081   The researchers suggest that using sleeping ba...  \n",
       "94037   He added that the government can only take act...  \n",
       "77156   \"Girl poses with the same old boring face, did...  \n",
       "\n",
       "[101 rows x 3 columns]"
      ]
     },
     "execution_count": 22,
     "metadata": {},
     "output_type": "execute_result"
    }
   ],
   "source": [
    "test_df"
   ]
  },
  {
   "cell_type": "code",
   "execution_count": 23,
   "id": "a79af8ed",
   "metadata": {},
   "outputs": [
    {
     "data": {
      "text/plain": [
       "headlines      0\n",
       "text           0\n",
       "predictions    0\n",
       "dtype: int64"
      ]
     },
     "execution_count": 23,
     "metadata": {},
     "output_type": "execute_result"
    }
   ],
   "source": [
    "test_df.isnull().sum()"
   ]
  },
  {
   "cell_type": "code",
   "execution_count": 24,
   "id": "a9f06a51",
   "metadata": {},
   "outputs": [],
   "source": [
    "# # Calculate the ROUGE scores between the predicted summaries and the actual summaries\n",
    "# rouge = Rouge()\n",
    "\n",
    "# scores = rouge.get_scores(predictions, test_df[\"headlines\"].tolist(), avg=True)\n",
    "\n",
    "# # Print the ROUGE scores\n",
    "# print(f\"ROUGE-1: {scores['rouge-1']['f']:.4f}\")\n",
    "# print(f\"ROUGE-2: {scores['rouge-2']['f']:.4f}\")\n",
    "# print(f\"ROUGE-L: {scores['rouge-l']['f']:.4f}\")"
   ]
  },
  {
   "cell_type": "code",
   "execution_count": 25,
   "id": "c87cc2c1",
   "metadata": {},
   "outputs": [
    {
     "name": "stdout",
     "output_type": "stream",
     "text": [
      "Average ROUGE-1: 0.2396\n",
      "Average ROUGE-2: 0.0781\n",
      "Average ROUGE-L: 0.2033\n",
      "============================\n",
      "24.202106579939407\n",
      "7.8886792237535355\n",
      "20.532925425140313\n"
     ]
    }
   ],
   "source": [
    "from rouge_score import rouge_scorer\n",
    "\n",
    "# Assuming predictions and test_df[\"headlines\"] are lists of strings\n",
    "references = test_df[\"headlines\"].tolist()\n",
    "\n",
    "scorer = rouge_scorer.RougeScorer(['rouge1', 'rouge2', 'rougeL'], use_stemmer=True)\n",
    "\n",
    "# Initialize variables to accumulate scores\n",
    "total_rouge1 = 0.0\n",
    "total_rouge2 = 0.0\n",
    "total_rougeL = 0.0\n",
    "num_examples = len(predictions)\n",
    "\n",
    "for prediction, reference in zip(predictions, references):\n",
    "    # Calculate Rouge scores for each example\n",
    "    scores = scorer.score(prediction, reference)\n",
    "\n",
    "    # Accumulate scores for averaging\n",
    "    total_rouge1 += scores['rouge1'].fmeasure\n",
    "    total_rouge2 += scores['rouge2'].fmeasure\n",
    "    total_rougeL += scores['rougeL'].fmeasure\n",
    "\n",
    "# Calculate average scores\n",
    "avg_rouge1 = total_rouge1 / num_examples\n",
    "avg_rouge2 = total_rouge2 / num_examples\n",
    "avg_rougeL = total_rougeL / num_examples\n",
    "\n",
    "# Print the average ROUGE scores\n",
    "print(f\"Average ROUGE-1: {avg_rouge1:.4f}\")\n",
    "print(f\"Average ROUGE-2: {avg_rouge2:.4f}\")\n",
    "print(f\"Average ROUGE-L: {avg_rougeL:.4f}\")\n",
    "print(\"============================\")\n",
    "print(total_rouge1)\n",
    "print(total_rouge2)\n",
    "print(total_rougeL)"
   ]
  },
  {
   "cell_type": "code",
   "execution_count": 26,
   "id": "1f06891b",
   "metadata": {},
   "outputs": [
    {
     "ename": "SyntaxError",
     "evalue": "invalid syntax (255488293.py, line 1)",
     "output_type": "error",
     "traceback": [
      "\u001b[0;36m  Cell \u001b[0;32mIn[26], line 1\u001b[0;36m\u001b[0m\n\u001b[0;31m    Average ROUGE-1: 0.2360\u001b[0m\n\u001b[0m            ^\u001b[0m\n\u001b[0;31mSyntaxError\u001b[0m\u001b[0;31m:\u001b[0m invalid syntax\n"
     ]
    }
   ],
   "source": [
    "# Average ROUGE-1: 0.2360\n",
    "# Average ROUGE-2: 0.0763\n",
    "# Average ROUGE-L: 0.1987"
   ]
  },
  {
   "cell_type": "code",
   "execution_count": 27,
   "id": "e691f6c5",
   "metadata": {},
   "outputs": [
    {
     "name": "stdout",
     "output_type": "stream",
     "text": [
      "Generated Output: Earlier today, Wan Ahmad Fayhsal insinuated that Farhash, a former political secretary to Anwar, was one of the two men who allegedly persuaded four Parti Pribumi Bersatu (Bersatu) MPs to support the government, with the other being identified as “Datuk Botak”.\n"
     ]
    }
   ],
   "source": [
    "# Assuming you have the input text as a string\n",
    "input_text = \"\"\"KUALA LUMPUR, Nov 14 — Former PKR leader Farhash Wafa Salvador Rizal Mubarak today rejected Machang MP Wan Ahmad Fayhsal Wan Ahmad Kamal’s claim that he was involved in enticing Perikatan Nasional lawmakers into pledging support to Prime Minister Datuk Seri Anwar Ibrahim.Earlier today, Wan Ahmad Fayhsal insinuated that Farhash, a former political secretary to Anwar, was one of the two men who allegedly persuaded four Parti Pribumi Bersatu (Bersatu) MPs to support the government, with the other being identified as “Datuk Botak”.“The defamation allegations were made in bad faith and without any direct evidence. Through the statement of the press conference by Wan Fayhsal, it was clear that I had been used as a political tool to spread untrue rumours for his own benefit,” he said in a statement.Farhash said he has left politics “for a long time”. “I now only run my life as a businessman. I do not understand why Wan Fayhsal’s brother has hurled such slander against me with the intention of undermining my reputation and self-respect, for his political interests. “Due to the statements and defamatory allegations levelled against me, I will make a police report for further investigation and action taken by the police against Wan Fayhsal,” he said.“I also reserve my right to file a defamation lawsuit against Wan Fayhsal,” he added. In a press conference outside of the Dewan Rakyat, Wan Ahmad Fayhsal earlier claimed there were videos online of “Datuk Botak” and a former aide to Anwar enticing Opposition MPs to support the government.He claimed that 10 more Bersatu MPs, including himself, received “offers” to support the federal government.Wan Ahmad Fayhsal said offers such as development projects in those Opposition MPs’ constituencies and cash were tabled to by “operators”.\"\"\"\n",
    "\n",
    "# Tokenize the input text\n",
    "input_ids = tokenizer.encode(input_text, return_tensors=\"pt\").to(device)\n",
    "\n",
    "# Generate predictions for the input\n",
    "with torch.no_grad():\n",
    "    output_ids = model.generate(\n",
    "        input_ids=input_ids,\n",
    "        max_length=128,\n",
    "        decoder_start_token_id=tokenizer.pad_token_id\n",
    "    )\n",
    "\n",
    "# Decode the generated output\n",
    "generated_output = tokenizer.decode(output_ids[0], skip_special_tokens=True)\n",
    "\n",
    "# Print or use the generated output\n",
    "print(\"Generated Output:\", generated_output)\n"
   ]
  },
  {
   "cell_type": "code",
   "execution_count": 28,
   "id": "62acc114",
   "metadata": {},
   "outputs": [
    {
     "name": "stdout",
     "output_type": "stream",
     "text": [
      "Generated Prediction: Your input text goes here.\n"
     ]
    }
   ],
   "source": [
    "import torch\n",
    "from tqdm import tqdm\n",
    "\n",
    "def generate_prediction(model, tokenizer, text_input, device):\n",
    "    model.eval()\n",
    "    \n",
    "    # Tokenize and encode the input text\n",
    "    input_ids = tokenizer.encode(text_input, return_tensors=\"pt\", max_length=128, truncation=True).to(device)\n",
    "    \n",
    "    # Generate the prediction\n",
    "    with torch.no_grad():\n",
    "        output_ids = model.generate(input_ids=input_ids, max_length=128, decoder_start_token_id=tokenizer.pad_token_id)\n",
    "    \n",
    "    # Decode the generated output\n",
    "    prediction = tokenizer.decode(output_ids[0], skip_special_tokens=True)\n",
    "    \n",
    "    return prediction\n",
    "\n",
    "# Example usage\n",
    "text_input = \"Your input text goes here.\"\n",
    "prediction = generate_prediction(model, tokenizer, text_input, device)\n",
    "print(\"Generated Prediction:\", prediction)"
   ]
  },
  {
   "cell_type": "code",
   "execution_count": null,
   "id": "045f1cc6",
   "metadata": {},
   "outputs": [],
   "source": []
  }
 ],
 "metadata": {
  "kernelspec": {
   "display_name": "Python 3 (ipykernel)",
   "language": "python",
   "name": "python3"
  },
  "language_info": {
   "codemirror_mode": {
    "name": "ipython",
    "version": 3
   },
   "file_extension": ".py",
   "mimetype": "text/x-python",
   "name": "python",
   "nbconvert_exporter": "python",
   "pygments_lexer": "ipython3",
   "version": "3.11.5"
  }
 },
 "nbformat": 4,
 "nbformat_minor": 5
}
